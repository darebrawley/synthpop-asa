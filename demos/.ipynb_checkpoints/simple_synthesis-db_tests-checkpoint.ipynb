{
 "cells": [
  {
   "cell_type": "code",
   "execution_count": 1,
   "metadata": {},
   "outputs": [],
   "source": [
    "from synthpop.synthesizer import synthesize, enable_logging\n",
    "import synthpop.categorizer as cat\n",
    "\n",
    "import multiprocessing\n",
    "import os\n",
    "import seaborn as sns\n",
    "from functools import partial\n",
    "import pandas as pd\n",
    "\n",
    "import synthpop.zone_synthesizer as zs"
   ]
  },
  {
   "cell_type": "code",
   "execution_count": 2,
   "metadata": {},
   "outputs": [],
   "source": [
    "hh_marginal_file = 'input_data/hh_marginals.csv'\n",
    "person_marginal_file = 'input_data/person_marginals.csv'\n",
    "hh_sample_file = 'input_data/household_sample.csv'\n",
    "person_sample_file = 'input_data/person_sample.csv'"
   ]
  },
  {
   "cell_type": "code",
   "execution_count": 3,
   "metadata": {},
   "outputs": [],
   "source": [
    "hh_marg, p_marg, hh_sample, p_sample, xwalk = zs.load_data(hh_marginal_file, person_marginal_file, hh_sample_file, person_sample_file)"
   ]
  },
  {
   "cell_type": "code",
   "execution_count": 4,
   "metadata": {},
   "outputs": [
    {
     "name": "stderr",
     "output_type": "stream",
     "text": [
      "/Users/darebrawley/anaconda3/lib/python3.6/site-packages/synthpop/ipu/ipu.py:190: RuntimeWarning: divide by zero encountered in double_scalars\n",
      "  adj = constraint / float((column * weights).sum())\n"
     ]
    },
    {
     "name": "stdout",
     "output_type": "stream",
     "text": [
      "Drawing 254 households\n"
     ]
    },
    {
     "name": "stderr",
     "output_type": "stream",
     "text": [
      "/Users/darebrawley/anaconda3/lib/python3.6/site-packages/synthpop/ipu/ipu.py:190: RuntimeWarning: divide by zero encountered in double_scalars\n",
      "  adj = constraint / float((column * weights).sum())\n"
     ]
    },
    {
     "name": "stdout",
     "output_type": "stream",
     "text": [
      "Drawing 306 households\n"
     ]
    },
    {
     "name": "stderr",
     "output_type": "stream",
     "text": [
      "/Users/darebrawley/anaconda3/lib/python3.6/site-packages/synthpop/ipu/ipu.py:190: RuntimeWarning: divide by zero encountered in double_scalars\n",
      "  adj = constraint / float((column * weights).sum())\n"
     ]
    },
    {
     "name": "stdout",
     "output_type": "stream",
     "text": [
      "Drawing 356 households\n"
     ]
    },
    {
     "name": "stderr",
     "output_type": "stream",
     "text": [
      "/Users/darebrawley/anaconda3/lib/python3.6/site-packages/synthpop/ipu/ipu.py:190: RuntimeWarning: divide by zero encountered in double_scalars\n",
      "  adj = constraint / float((column * weights).sum())\n"
     ]
    },
    {
     "name": "stdout",
     "output_type": "stream",
     "text": [
      "Drawing 390 households\n"
     ]
    },
    {
     "name": "stderr",
     "output_type": "stream",
     "text": [
      "/Users/darebrawley/anaconda3/lib/python3.6/site-packages/synthpop/ipu/ipu.py:190: RuntimeWarning: divide by zero encountered in double_scalars\n",
      "  adj = constraint / float((column * weights).sum())\n"
     ]
    },
    {
     "name": "stdout",
     "output_type": "stream",
     "text": [
      "Drawing 601 households\n"
     ]
    },
    {
     "name": "stderr",
     "output_type": "stream",
     "text": [
      "/Users/darebrawley/anaconda3/lib/python3.6/site-packages/synthpop/ipu/ipu.py:190: RuntimeWarning: divide by zero encountered in double_scalars\n",
      "  adj = constraint / float((column * weights).sum())\n"
     ]
    },
    {
     "name": "stdout",
     "output_type": "stream",
     "text": [
      "Drawing 324 households\n"
     ]
    },
    {
     "name": "stderr",
     "output_type": "stream",
     "text": [
      "/Users/darebrawley/anaconda3/lib/python3.6/site-packages/synthpop/ipu/ipu.py:190: RuntimeWarning: divide by zero encountered in double_scalars\n",
      "  adj = constraint / float((column * weights).sum())\n"
     ]
    },
    {
     "name": "stdout",
     "output_type": "stream",
     "text": [
      "Drawing 556 households\n"
     ]
    },
    {
     "name": "stderr",
     "output_type": "stream",
     "text": [
      "/Users/darebrawley/anaconda3/lib/python3.6/site-packages/synthpop/ipu/ipu.py:190: RuntimeWarning: divide by zero encountered in double_scalars\n",
      "  adj = constraint / float((column * weights).sum())\n"
     ]
    },
    {
     "name": "stdout",
     "output_type": "stream",
     "text": [
      "Drawing 342 households\n"
     ]
    },
    {
     "name": "stderr",
     "output_type": "stream",
     "text": [
      "/Users/darebrawley/anaconda3/lib/python3.6/site-packages/synthpop/ipu/ipu.py:190: RuntimeWarning: divide by zero encountered in double_scalars\n",
      "  adj = constraint / float((column * weights).sum())\n"
     ]
    },
    {
     "name": "stdout",
     "output_type": "stream",
     "text": [
      "Drawing 273 households\n"
     ]
    },
    {
     "name": "stderr",
     "output_type": "stream",
     "text": [
      "/Users/darebrawley/anaconda3/lib/python3.6/site-packages/synthpop/ipu/ipu.py:190: RuntimeWarning: divide by zero encountered in double_scalars\n",
      "  adj = constraint / float((column * weights).sum())\n"
     ]
    },
    {
     "name": "stdout",
     "output_type": "stream",
     "text": [
      "Drawing 228 households\n",
      "Drawing 857 households\n",
      "Drawing 748 households\n"
     ]
    },
    {
     "name": "stderr",
     "output_type": "stream",
     "text": [
      "/Users/darebrawley/anaconda3/lib/python3.6/site-packages/synthpop/ipu/ipu.py:190: RuntimeWarning: divide by zero encountered in double_scalars\n",
      "  adj = constraint / float((column * weights).sum())\n"
     ]
    },
    {
     "name": "stdout",
     "output_type": "stream",
     "text": [
      "Drawing 744 households\n"
     ]
    },
    {
     "name": "stderr",
     "output_type": "stream",
     "text": [
      "/Users/darebrawley/anaconda3/lib/python3.6/site-packages/synthpop/ipu/ipu.py:190: RuntimeWarning: divide by zero encountered in double_scalars\n",
      "  adj = constraint / float((column * weights).sum())\n"
     ]
    },
    {
     "name": "stdout",
     "output_type": "stream",
     "text": [
      "Drawing 953 households\n"
     ]
    },
    {
     "name": "stderr",
     "output_type": "stream",
     "text": [
      "/Users/darebrawley/anaconda3/lib/python3.6/site-packages/synthpop/ipu/ipu.py:190: RuntimeWarning: divide by zero encountered in double_scalars\n",
      "  adj = constraint / float((column * weights).sum())\n"
     ]
    },
    {
     "name": "stdout",
     "output_type": "stream",
     "text": [
      "Drawing 719 households\n"
     ]
    },
    {
     "name": "stderr",
     "output_type": "stream",
     "text": [
      "/Users/darebrawley/anaconda3/lib/python3.6/site-packages/synthpop/ipu/ipu.py:190: RuntimeWarning: divide by zero encountered in double_scalars\n",
      "  adj = constraint / float((column * weights).sum())\n"
     ]
    },
    {
     "name": "stdout",
     "output_type": "stream",
     "text": [
      "Drawing 185 households\n"
     ]
    },
    {
     "name": "stderr",
     "output_type": "stream",
     "text": [
      "/Users/darebrawley/anaconda3/lib/python3.6/site-packages/synthpop/ipu/ipu.py:190: RuntimeWarning: divide by zero encountered in double_scalars\n",
      "  adj = constraint / float((column * weights).sum())\n"
     ]
    },
    {
     "name": "stdout",
     "output_type": "stream",
     "text": [
      "Drawing 183 households\n"
     ]
    },
    {
     "name": "stderr",
     "output_type": "stream",
     "text": [
      "/Users/darebrawley/anaconda3/lib/python3.6/site-packages/synthpop/ipu/ipu.py:190: RuntimeWarning: divide by zero encountered in double_scalars\n",
      "  adj = constraint / float((column * weights).sum())\n"
     ]
    },
    {
     "name": "stdout",
     "output_type": "stream",
     "text": [
      "Drawing 286 households\n"
     ]
    },
    {
     "name": "stderr",
     "output_type": "stream",
     "text": [
      "/Users/darebrawley/anaconda3/lib/python3.6/site-packages/synthpop/ipu/ipu.py:190: RuntimeWarning: divide by zero encountered in double_scalars\n",
      "  adj = constraint / float((column * weights).sum())\n"
     ]
    },
    {
     "name": "stdout",
     "output_type": "stream",
     "text": [
      "Drawing 317 households\n"
     ]
    },
    {
     "name": "stderr",
     "output_type": "stream",
     "text": [
      "/Users/darebrawley/anaconda3/lib/python3.6/site-packages/synthpop/ipu/ipu.py:190: RuntimeWarning: divide by zero encountered in double_scalars\n",
      "  adj = constraint / float((column * weights).sum())\n"
     ]
    },
    {
     "name": "stdout",
     "output_type": "stream",
     "text": [
      "Drawing 711 households\n"
     ]
    },
    {
     "name": "stderr",
     "output_type": "stream",
     "text": [
      "/Users/darebrawley/anaconda3/lib/python3.6/site-packages/synthpop/ipu/ipu.py:190: RuntimeWarning: divide by zero encountered in double_scalars\n",
      "  adj = constraint / float((column * weights).sum())\n"
     ]
    },
    {
     "name": "stdout",
     "output_type": "stream",
     "text": [
      "Drawing 345 households\n"
     ]
    }
   ],
   "source": [
    "all_households, all_persons, all_stats = zs.synthesize_all_zones(hh_marg, p_marg, hh_sample, p_sample, xwalk)"
   ]
  },
  {
   "cell_type": "code",
   "execution_count": 5,
   "metadata": {},
   "outputs": [
    {
     "name": "stderr",
     "output_type": "stream",
     "text": [
      "/Users/darebrawley/anaconda3/lib/python3.6/site-packages/synthpop/ipu/ipu.py:190: RuntimeWarning: divide by zero encountered in double_scalars\n",
      "  adj = constraint / float((column * weights).sum())\n",
      "/Users/darebrawley/anaconda3/lib/python3.6/site-packages/synthpop/ipu/ipu.py:190: RuntimeWarning: divide by zero encountered in double_scalars\n",
      "  adj = constraint / float((column * weights).sum())\n",
      "/Users/darebrawley/anaconda3/lib/python3.6/site-packages/synthpop/ipu/ipu.py:190: RuntimeWarning: divide by zero encountered in double_scalars\n",
      "  adj = constraint / float((column * weights).sum())\n",
      "/Users/darebrawley/anaconda3/lib/python3.6/site-packages/synthpop/ipu/ipu.py:190: RuntimeWarning: divide by zero encountered in double_scalars\n",
      "  adj = constraint / float((column * weights).sum())\n",
      "/Users/darebrawley/anaconda3/lib/python3.6/site-packages/synthpop/ipu/ipu.py:190: RuntimeWarning: divide by zero encountered in double_scalars\n",
      "  adj = constraint / float((column * weights).sum())\n",
      "/Users/darebrawley/anaconda3/lib/python3.6/site-packages/synthpop/ipu/ipu.py:190: RuntimeWarning: divide by zero encountered in double_scalars\n",
      "  adj = constraint / float((column * weights).sum())\n",
      "/Users/darebrawley/anaconda3/lib/python3.6/site-packages/synthpop/ipu/ipu.py:190: RuntimeWarning: divide by zero encountered in double_scalars\n",
      "  adj = constraint / float((column * weights).sum())\n"
     ]
    },
    {
     "name": "stdout",
     "output_type": "stream",
     "text": [
      "Drawing 390 households\n",
      "Drawing 306 households\n",
      "Drawing 254 households\n",
      "Drawing 601 households\n",
      "Drawing 356 households\n",
      "Drawing 324 households\n",
      "Drawing 556 households\n"
     ]
    },
    {
     "name": "stderr",
     "output_type": "stream",
     "text": [
      "/Users/darebrawley/anaconda3/lib/python3.6/site-packages/synthpop/ipu/ipu.py:190: RuntimeWarning: divide by zero encountered in double_scalars\n",
      "  adj = constraint / float((column * weights).sum())\n",
      "/Users/darebrawley/anaconda3/lib/python3.6/site-packages/synthpop/ipu/ipu.py:190: RuntimeWarning: divide by zero encountered in double_scalars\n",
      "  adj = constraint / float((column * weights).sum())\n",
      "/Users/darebrawley/anaconda3/lib/python3.6/site-packages/synthpop/ipu/ipu.py:190: RuntimeWarning: divide by zero encountered in double_scalars\n",
      "  adj = constraint / float((column * weights).sum())\n"
     ]
    },
    {
     "name": "stdout",
     "output_type": "stream",
     "text": [
      "Drawing 273 households\n",
      "Drawing 342 households\n"
     ]
    },
    {
     "name": "stderr",
     "output_type": "stream",
     "text": [
      "/Users/darebrawley/anaconda3/lib/python3.6/site-packages/synthpop/ipu/ipu.py:190: RuntimeWarning: divide by zero encountered in double_scalars\n",
      "  adj = constraint / float((column * weights).sum())\n"
     ]
    },
    {
     "name": "stdout",
     "output_type": "stream",
     "text": [
      "Drawing 228 households\n"
     ]
    },
    {
     "name": "stderr",
     "output_type": "stream",
     "text": [
      "/Users/darebrawley/anaconda3/lib/python3.6/site-packages/synthpop/ipu/ipu.py:190: RuntimeWarning: divide by zero encountered in double_scalars\n",
      "  adj = constraint / float((column * weights).sum())\n"
     ]
    },
    {
     "name": "stdout",
     "output_type": "stream",
     "text": [
      "Drawing 748 households\n",
      "Drawing 744 households\n",
      "Drawing 857 households\n",
      "Drawing 953 households\n"
     ]
    },
    {
     "name": "stderr",
     "output_type": "stream",
     "text": [
      "/Users/darebrawley/anaconda3/lib/python3.6/site-packages/synthpop/ipu/ipu.py:190: RuntimeWarning: divide by zero encountered in double_scalars\n",
      "  adj = constraint / float((column * weights).sum())\n",
      "/Users/darebrawley/anaconda3/lib/python3.6/site-packages/synthpop/ipu/ipu.py:190: RuntimeWarning: divide by zero encountered in double_scalars\n",
      "  adj = constraint / float((column * weights).sum())\n",
      "/Users/darebrawley/anaconda3/lib/python3.6/site-packages/synthpop/ipu/ipu.py:190: RuntimeWarning: divide by zero encountered in double_scalars\n",
      "  adj = constraint / float((column * weights).sum())\n"
     ]
    },
    {
     "name": "stdout",
     "output_type": "stream",
     "text": [
      "Drawing 183 households\n",
      "Drawing 719 households\n"
     ]
    },
    {
     "name": "stderr",
     "output_type": "stream",
     "text": [
      "/Users/darebrawley/anaconda3/lib/python3.6/site-packages/synthpop/ipu/ipu.py:190: RuntimeWarning: divide by zero encountered in double_scalars\n",
      "  adj = constraint / float((column * weights).sum())\n"
     ]
    },
    {
     "name": "stdout",
     "output_type": "stream",
     "text": [
      "Drawing 185 households\n"
     ]
    },
    {
     "name": "stderr",
     "output_type": "stream",
     "text": [
      "/Users/darebrawley/anaconda3/lib/python3.6/site-packages/synthpop/ipu/ipu.py:190: RuntimeWarning: divide by zero encountered in double_scalars\n",
      "  adj = constraint / float((column * weights).sum())\n",
      "/Users/darebrawley/anaconda3/lib/python3.6/site-packages/synthpop/ipu/ipu.py:190: RuntimeWarning: divide by zero encountered in double_scalars\n",
      "  adj = constraint / float((column * weights).sum())\n",
      "/Users/darebrawley/anaconda3/lib/python3.6/site-packages/synthpop/ipu/ipu.py:190: RuntimeWarning: divide by zero encountered in double_scalars\n",
      "  adj = constraint / float((column * weights).sum())\n"
     ]
    },
    {
     "name": "stdout",
     "output_type": "stream",
     "text": [
      "Drawing 317 households\n",
      "Drawing 711 households\n",
      "Drawing 345 households\n",
      "Drawing 286 households\n"
     ]
    }
   ],
   "source": [
    "all_persons, all_households, all_stats = zs.multiprocess_synthesize(hh_marg, p_marg, hh_sample, p_sample, xwalk)"
   ]
  },
  {
   "cell_type": "code",
   "execution_count": 6,
   "metadata": {},
   "outputs": [
    {
     "data": {
      "text/plain": [
       "<matplotlib.axes._subplots.AxesSubplot at 0x12cbb99b0>"
      ]
     },
     "execution_count": 6,
     "metadata": {},
     "output_type": "execute_result"
    },
    {
     "data": {
      "image/png": "[encoded data removed]",
      "text/plain": [
       "<Figure size 432x288 with 1 Axes>"
      ]
     },
     "metadata": {},
     "output_type": "display_data"
    }
   ],
   "source": [
    "sns.distplot(all_persons.cat_id)"
   ]
  },
  {
   "cell_type": "code",
   "execution_count": 12,
   "metadata": {},
   "outputs": [
    {
     "name": "stdout",
     "output_type": "stream",
     "text": [
      "[(1, 1), (2, 1), (3, 1), (4, 1), (5, 1), (6, 1), (7, 1), (8, 1), (9, 1), (10, 1), (11, 1), (12, 1), (13, 1), (14, 1), (15, 1), (16, 1), (17, 1), (18, 1), (19, 1), (20, 1), (21, 1)]\n"
     ]
    }
   ],
   "source": [
    "print(xwalk)"
   ]
  },
  {
   "cell_type": "code",
   "execution_count": null,
   "metadata": {},
   "outputs": [],
   "source": []
  }
 ],
 "metadata": {
  "kernelspec": {
   "display_name": "Python 3",
   "language": "python",
   "name": "python3"
  },
  "language_info": {
   "codemirror_mode": {
    "name": "ipython",
    "version": 3
   },
   "file_extension": ".py",
   "mimetype": "text/x-python",
   "name": "python",
   "nbconvert_exporter": "python",
   "pygments_lexer": "ipython3",
   "version": "3.6.4"
  }
 },
 "nbformat": 4,
 "nbformat_minor": 1
}
